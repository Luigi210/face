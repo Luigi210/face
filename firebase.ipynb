{
 "cells": [
  {
   "cell_type": "code",
   "execution_count": 43,
   "metadata": {},
   "outputs": [],
   "source": [
    "from deepface import DeepFace \n",
    "import cv2\n",
    "from matplotlib import pyplot as plt\n",
    "import random as rd\n",
    "import os\n",
    "\n",
    "import firebase_admin\n",
    "from firebase_admin import credentials as crd\n",
    "from firebase_admin import storage, db\n",
    "\n",
    "from google.cloud import storage as strg\n",
    "from google.oauth2 import service_account\n",
    "import datetime"
   ]
  },
  {
   "cell_type": "code",
   "execution_count": 45,
   "metadata": {},
   "outputs": [],
   "source": [
    "model_name = 'VGG-Face'\n"
   ]
  },
  {
   "cell_type": "code",
   "execution_count": 46,
   "metadata": {},
   "outputs": [],
   "source": [
    "credentials = service_account.Credentials.from_service_account_file('serviceAccountKey.json')\n",
    "client = strg.Client(credentials=credentials, project='face-atendance')"
   ]
  },
  {
   "cell_type": "code",
   "execution_count": 47,
   "metadata": {},
   "outputs": [],
   "source": [
    "cred = crd.Certificate(\"serviceAccountKey.json\")"
   ]
  },
  {
   "cell_type": "code",
   "execution_count": 62,
   "metadata": {},
   "outputs": [
    {
     "data": {
      "text/plain": [
       "<firebase_admin.App at 0x2f4e86f0af0>"
      ]
     },
     "execution_count": 62,
     "metadata": {},
     "output_type": "execute_result"
    }
   ],
   "source": [
    "firebase_admin.initialize_app(cred, {\n",
    "    'storageBucket': 'face-atendance.appspot.com',\n",
    "    \"databaseURL\": \"https://face-atendance-default-rtdb.europe-west1.firebasedatabase.app/\"\n",
    "}, name='strg')"
   ]
  },
  {
   "cell_type": "code",
   "execution_count": 49,
   "metadata": {},
   "outputs": [
    {
     "name": "stdout",
     "output_type": "stream",
     "text": [
      "<Blob: face-atendance.appspot.com, 19B030068.png, 1682605308535634>\n",
      "<Blob: face-atendance.appspot.com, 19B030222.png, 1682605309670804>\n",
      "<Blob: face-atendance.appspot.com, 19B030291.png, 1682605309555464>\n"
     ]
    }
   ],
   "source": [
    "bucket = client.get_bucket('face-atendance.appspot.com')\n",
    "\n",
    "blobs = bucket.list_blobs()\n",
    "\n",
    "for blob in blobs:\n",
    "    filename = os.path.join('deleted', blob.name.split('/')[-1])\n",
    "    if os.path.exists('deleted/' + filename):\n",
    "        pass\n",
    "    else:\n",
    "        blob.download_to_filename(filename)\n",
    "    print(blob)"
   ]
  },
  {
   "cell_type": "code",
   "execution_count": 75,
   "metadata": {},
   "outputs": [],
   "source": [
    "img_path1 = 'images/as.jpg'"
   ]
  },
  {
   "cell_type": "code",
   "execution_count": 76,
   "metadata": {},
   "outputs": [
    {
     "name": "stdout",
     "output_type": "stream",
     "text": [
      "WARNING: Representations for images in deleted folder were previously stored in representations_vgg_face.pkl. If you added new instances after the creation, then please delete this file and call find function again. It will create it again.\n",
      "There are  3  representations found in  representations_vgg_face.pkl\n",
      "find function lasts  13.47607970237732  seconds\n"
     ]
    }
   ],
   "source": [
    "if os.path.exists('representations_vgg_face.pkl') == True:\n",
    "  os.remove('deleted/representations_vgg_face.pkl')\n",
    "res = DeepFace.find(img_path1, db_path='deleted', model_name=model_name)"
   ]
  },
  {
   "cell_type": "code",
   "execution_count": 77,
   "metadata": {},
   "outputs": [
    {
     "data": {
      "text/plain": [
       "[                identity  source_x  source_y  source_w  source_h  \\\n",
       " 0  deleted/19B030222.png       193       376       420       420   \n",
       " \n",
       "    VGG-Face_cosine  \n",
       " 0         0.301936  ]"
      ]
     },
     "execution_count": 77,
     "metadata": {},
     "output_type": "execute_result"
    }
   ],
   "source": [
    "res"
   ]
  },
  {
   "cell_type": "code",
   "execution_count": 78,
   "metadata": {},
   "outputs": [
    {
     "data": {
      "text/plain": [
       "'deleted/19B030222.png'"
      ]
     },
     "execution_count": 78,
     "metadata": {},
     "output_type": "execute_result"
    }
   ],
   "source": [
    "res[0].iloc[0]['identity']"
   ]
  },
  {
   "cell_type": "code",
   "execution_count": 79,
   "metadata": {},
   "outputs": [
    {
     "name": "stdout",
     "output_type": "stream",
     "text": [
      "19B030222\n"
     ]
    }
   ],
   "source": [
    "filename = res[0].iloc[0]['identity']\n",
    "if filename.count('\\\\') > 0:\n",
    "  img_id = filename.split('\\\\')[1].split('.')[0]\n",
    "else:\n",
    "  img_id = filename.split('/')[1].split('.')[0]\n",
    "print(img_id)"
   ]
  },
  {
   "cell_type": "code",
   "execution_count": 80,
   "metadata": {},
   "outputs": [
    {
     "name": "stdout",
     "output_type": "stream",
     "text": [
      "Assylgul\n"
     ]
    }
   ],
   "source": [
    "ref = db.reference('persons')\n",
    "\n",
    "data = ref.child(img_id).get()\n",
    "\n",
    "print(data['firstname'])"
   ]
  },
  {
   "cell_type": "code",
   "execution_count": null,
   "metadata": {},
   "outputs": [],
   "source": []
  }
 ],
 "metadata": {
  "kernelspec": {
   "display_name": "Python 3",
   "language": "python",
   "name": "python3"
  },
  "language_info": {
   "codemirror_mode": {
    "name": "ipython",
    "version": 3
   },
   "file_extension": ".py",
   "mimetype": "text/x-python",
   "name": "python",
   "nbconvert_exporter": "python",
   "pygments_lexer": "ipython3",
   "version": "3.8.1"
  },
  "orig_nbformat": 4
 },
 "nbformat": 4,
 "nbformat_minor": 2
}
